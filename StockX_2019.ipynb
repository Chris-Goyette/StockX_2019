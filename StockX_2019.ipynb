{
 "cells": [
  {
   "cell_type": "code",
   "execution_count": 25,
   "metadata": {},
   "outputs": [],
   "source": [
    "import pandas as pd\n",
    "import matplotlib.pyplot as plt\n",
    "import numpy as np \n",
    "import seaborn as sns"
   ]
  },
  {
   "cell_type": "code",
   "execution_count": 12,
   "metadata": {},
   "outputs": [
    {
     "name": "stdout",
     "output_type": "stream",
     "text": [
      "<class 'pandas.core.frame.DataFrame'>\n",
      "RangeIndex: 99956 entries, 0 to 99955\n",
      "Data columns (total 8 columns):\n",
      " #   Column        Non-Null Count  Dtype  \n",
      "---  ------        --------------  -----  \n",
      " 0   Order Date    99956 non-null  object \n",
      " 1   Brand         99956 non-null  object \n",
      " 2   Sneaker Name  99956 non-null  object \n",
      " 3   Sale Price    99956 non-null  object \n",
      " 4   Retail Price  99956 non-null  object \n",
      " 5   Release Date  99956 non-null  object \n",
      " 6   Shoe Size     99956 non-null  float64\n",
      " 7   Buyer Region  99956 non-null  object \n",
      "dtypes: float64(1), object(7)\n",
      "memory usage: 6.1+ MB\n"
     ]
    }
   ],
   "source": [
    "df = pd.read_csv('/Users/chrisgoyette/Desktop/Data_Projects/StockX/StockX_2019.csv')\n",
    "df.info()"
   ]
  },
  {
   "cell_type": "code",
   "execution_count": 28,
   "metadata": {},
   "outputs": [
    {
     "data": {
      "text/html": [
       "<div>\n",
       "<style scoped>\n",
       "    .dataframe tbody tr th:only-of-type {\n",
       "        vertical-align: middle;\n",
       "    }\n",
       "\n",
       "    .dataframe tbody tr th {\n",
       "        vertical-align: top;\n",
       "    }\n",
       "\n",
       "    .dataframe thead th {\n",
       "        text-align: right;\n",
       "    }\n",
       "</style>\n",
       "<table border=\"1\" class=\"dataframe\">\n",
       "  <thead>\n",
       "    <tr style=\"text-align: right;\">\n",
       "      <th></th>\n",
       "      <th>Order Date</th>\n",
       "      <th>Brand</th>\n",
       "      <th>Sneaker Name</th>\n",
       "      <th>Sale Price</th>\n",
       "      <th>Retail Price</th>\n",
       "      <th>Release Date</th>\n",
       "      <th>Shoe Size</th>\n",
       "      <th>Buyer Region</th>\n",
       "    </tr>\n",
       "  </thead>\n",
       "  <tbody>\n",
       "    <tr>\n",
       "      <th>66513</th>\n",
       "      <td>11/26/18</td>\n",
       "      <td>Yeezy</td>\n",
       "      <td>Adidas-Yeezy-Boost-350-V2-Zebra</td>\n",
       "      <td>$274</td>\n",
       "      <td>$220</td>\n",
       "      <td>2/25/17</td>\n",
       "      <td>10.0</td>\n",
       "      <td>New York</td>\n",
       "    </tr>\n",
       "    <tr>\n",
       "      <th>38434</th>\n",
       "      <td>7/17/18</td>\n",
       "      <td>Yeezy</td>\n",
       "      <td>adidas-Yeezy-Boost-350-V2-Butter</td>\n",
       "      <td>$266</td>\n",
       "      <td>$220</td>\n",
       "      <td>6/30/18</td>\n",
       "      <td>11.0</td>\n",
       "      <td>New York</td>\n",
       "    </tr>\n",
       "    <tr>\n",
       "      <th>28744</th>\n",
       "      <td>6/4/18</td>\n",
       "      <td>Off-White</td>\n",
       "      <td>Air-Jordan-1-Retro-High-Off-White-University-Blue</td>\n",
       "      <td>$906</td>\n",
       "      <td>$190</td>\n",
       "      <td>6/23/18</td>\n",
       "      <td>10.0</td>\n",
       "      <td>Colorado</td>\n",
       "    </tr>\n",
       "    <tr>\n",
       "      <th>87791</th>\n",
       "      <td>1/9/19</td>\n",
       "      <td>Yeezy</td>\n",
       "      <td>adidas-Yeezy-Boost-350-V2-Butter</td>\n",
       "      <td>$224</td>\n",
       "      <td>$220</td>\n",
       "      <td>6/30/18</td>\n",
       "      <td>11.0</td>\n",
       "      <td>Connecticut</td>\n",
       "    </tr>\n",
       "    <tr>\n",
       "      <th>37109</th>\n",
       "      <td>7/11/18</td>\n",
       "      <td>Yeezy</td>\n",
       "      <td>Adidas-Yeezy-Boost-350-V2-Blue-Tint</td>\n",
       "      <td>$405</td>\n",
       "      <td>$220</td>\n",
       "      <td>12/16/17</td>\n",
       "      <td>13.0</td>\n",
       "      <td>New Jersey</td>\n",
       "    </tr>\n",
       "    <tr>\n",
       "      <th>13921</th>\n",
       "      <td>1/4/18</td>\n",
       "      <td>Yeezy</td>\n",
       "      <td>Adidas-Yeezy-Boost-350-V2-Zebra</td>\n",
       "      <td>$580</td>\n",
       "      <td>$220</td>\n",
       "      <td>2/25/17</td>\n",
       "      <td>11.0</td>\n",
       "      <td>California</td>\n",
       "    </tr>\n",
       "    <tr>\n",
       "      <th>21556</th>\n",
       "      <td>3/26/18</td>\n",
       "      <td>Yeezy</td>\n",
       "      <td>Adidas-Yeezy-Boost-350-V2-Beluga-2pt0</td>\n",
       "      <td>$450</td>\n",
       "      <td>$220</td>\n",
       "      <td>11/25/17</td>\n",
       "      <td>6.0</td>\n",
       "      <td>New Jersey</td>\n",
       "    </tr>\n",
       "    <tr>\n",
       "      <th>14204</th>\n",
       "      <td>1/6/18</td>\n",
       "      <td>Yeezy</td>\n",
       "      <td>Adidas-Yeezy-Boost-350-V2-Semi-Frozen-Yellow</td>\n",
       "      <td>$640</td>\n",
       "      <td>$220</td>\n",
       "      <td>11/18/17</td>\n",
       "      <td>8.5</td>\n",
       "      <td>Hawaii</td>\n",
       "    </tr>\n",
       "    <tr>\n",
       "      <th>69254</th>\n",
       "      <td>12/2/18</td>\n",
       "      <td>Yeezy</td>\n",
       "      <td>Adidas-Yeezy-Boost-350-V2-Cream-White</td>\n",
       "      <td>$239</td>\n",
       "      <td>$220</td>\n",
       "      <td>4/29/17</td>\n",
       "      <td>10.5</td>\n",
       "      <td>Louisiana</td>\n",
       "    </tr>\n",
       "    <tr>\n",
       "      <th>87911</th>\n",
       "      <td>1/9/19</td>\n",
       "      <td>Yeezy</td>\n",
       "      <td>adidas-Yeezy-Boost-350-V2-Static-Reflective</td>\n",
       "      <td>$416</td>\n",
       "      <td>$220</td>\n",
       "      <td>12/26/18</td>\n",
       "      <td>6.0</td>\n",
       "      <td>New York</td>\n",
       "    </tr>\n",
       "  </tbody>\n",
       "</table>\n",
       "</div>"
      ],
      "text/plain": [
       "      Order Date      Brand  \\\n",
       "66513   11/26/18      Yeezy   \n",
       "38434    7/17/18      Yeezy   \n",
       "28744     6/4/18  Off-White   \n",
       "87791     1/9/19      Yeezy   \n",
       "37109    7/11/18      Yeezy   \n",
       "13921     1/4/18      Yeezy   \n",
       "21556    3/26/18      Yeezy   \n",
       "14204     1/6/18      Yeezy   \n",
       "69254    12/2/18      Yeezy   \n",
       "87911     1/9/19      Yeezy   \n",
       "\n",
       "                                            Sneaker Name Sale Price  \\\n",
       "66513                    Adidas-Yeezy-Boost-350-V2-Zebra       $274   \n",
       "38434                   adidas-Yeezy-Boost-350-V2-Butter       $266   \n",
       "28744  Air-Jordan-1-Retro-High-Off-White-University-Blue       $906   \n",
       "87791                   adidas-Yeezy-Boost-350-V2-Butter       $224   \n",
       "37109                Adidas-Yeezy-Boost-350-V2-Blue-Tint       $405   \n",
       "13921                    Adidas-Yeezy-Boost-350-V2-Zebra       $580   \n",
       "21556              Adidas-Yeezy-Boost-350-V2-Beluga-2pt0       $450   \n",
       "14204       Adidas-Yeezy-Boost-350-V2-Semi-Frozen-Yellow       $640   \n",
       "69254              Adidas-Yeezy-Boost-350-V2-Cream-White       $239   \n",
       "87911        adidas-Yeezy-Boost-350-V2-Static-Reflective       $416   \n",
       "\n",
       "      Retail Price Release Date  Shoe Size Buyer Region  \n",
       "66513         $220      2/25/17       10.0     New York  \n",
       "38434         $220      6/30/18       11.0     New York  \n",
       "28744         $190      6/23/18       10.0     Colorado  \n",
       "87791         $220      6/30/18       11.0  Connecticut  \n",
       "37109         $220     12/16/17       13.0   New Jersey  \n",
       "13921         $220      2/25/17       11.0   California  \n",
       "21556         $220     11/25/17        6.0   New Jersey  \n",
       "14204         $220     11/18/17        8.5       Hawaii  \n",
       "69254         $220      4/29/17       10.5    Louisiana  \n",
       "87911         $220     12/26/18        6.0     New York  "
      ]
     },
     "execution_count": 28,
     "metadata": {},
     "output_type": "execute_result"
    }
   ],
   "source": [
    "# looking at the data to get an idea of what we are working with\n",
    "df.sample(10)"
   ]
  },
  {
   "cell_type": "code",
   "execution_count": 36,
   "metadata": {},
   "outputs": [
    {
     "data": {
      "text/plain": [
       "0        1097\n",
       "1         685\n",
       "2         690\n",
       "3        1075\n",
       "4         828\n",
       "         ... \n",
       "99951     565\n",
       "99952     598\n",
       "99953     605\n",
       "99954     650\n",
       "99955     640\n",
       "Name: Sale Price, Length: 99956, dtype: object"
      ]
     },
     "execution_count": 36,
     "metadata": {},
     "output_type": "execute_result"
    }
   ],
   "source": [
    "# Lets do some data cleaning\n",
    "# removing dollar signs and commas\n",
    "\n",
    "df['Sale Price'] = df['Sale Price'].str.replace('[$,]', '', regex=True)\n",
    "df['Sale Price']"
   ]
  },
  {
   "cell_type": "code",
   "execution_count": 38,
   "metadata": {},
   "outputs": [
    {
     "name": "stdout",
     "output_type": "stream",
     "text": [
      "<class 'pandas.core.frame.DataFrame'>\n",
      "RangeIndex: 99956 entries, 0 to 99955\n",
      "Data columns (total 8 columns):\n",
      " #   Column        Non-Null Count  Dtype  \n",
      "---  ------        --------------  -----  \n",
      " 0   Order Date    99956 non-null  object \n",
      " 1   Brand         99956 non-null  object \n",
      " 2   Sneaker Name  99956 non-null  object \n",
      " 3   Sale Price    99956 non-null  int64  \n",
      " 4   Retail Price  99956 non-null  object \n",
      " 5   Release Date  99956 non-null  object \n",
      " 6   Shoe Size     99956 non-null  float64\n",
      " 7   Buyer Region  99956 non-null  object \n",
      "dtypes: float64(1), int64(1), object(6)\n",
      "memory usage: 6.1+ MB\n"
     ]
    }
   ],
   "source": [
    "# Now that we removed the dollar signs and commas lets convert to a numeric datatype\n",
    "\n",
    "df['Sale Price'] = pd.to_numeric(df['Sale Price'])\n",
    "df.info()"
   ]
  },
  {
   "cell_type": "code",
   "execution_count": 40,
   "metadata": {},
   "outputs": [
    {
     "name": "stdout",
     "output_type": "stream",
     "text": [
      "<class 'pandas.core.frame.DataFrame'>\n",
      "RangeIndex: 99956 entries, 0 to 99955\n",
      "Data columns (total 8 columns):\n",
      " #   Column        Non-Null Count  Dtype         \n",
      "---  ------        --------------  -----         \n",
      " 0   Order Date    99956 non-null  datetime64[ns]\n",
      " 1   Brand         99956 non-null  object        \n",
      " 2   Sneaker Name  99956 non-null  object        \n",
      " 3   Sale Price    99956 non-null  int64         \n",
      " 4   Retail Price  99956 non-null  object        \n",
      " 5   Release Date  99956 non-null  object        \n",
      " 6   Shoe Size     99956 non-null  float64       \n",
      " 7   Buyer Region  99956 non-null  object        \n",
      "dtypes: datetime64[ns](1), float64(1), int64(1), object(5)\n",
      "memory usage: 6.1+ MB\n"
     ]
    }
   ],
   "source": [
    "# More cleaning\n",
    "# Convert Order Date from object to datetime\n",
    "df['Order Date'] = pd.to_datetime(df['Order Date'], format='%m/%d/%y')\n",
    "df.info()\n"
   ]
  },
  {
   "cell_type": "code",
   "execution_count": null,
   "metadata": {},
   "outputs": [],
   "source": [
    "# More cleaning\n",
    "df['Retail Price'] = df['Retail Price'].str.replace('[$,]', '', regex=True)\n",
    "df['Retail Price'] = pd.to_numeric(df['Retail Price'])\n",
    "\n"
   ]
  },
  {
   "cell_type": "code",
   "execution_count": 51,
   "metadata": {},
   "outputs": [
    {
     "name": "stdout",
     "output_type": "stream",
     "text": [
      "<class 'pandas.core.frame.DataFrame'>\n",
      "RangeIndex: 99956 entries, 0 to 99955\n",
      "Data columns (total 8 columns):\n",
      " #   Column        Non-Null Count  Dtype         \n",
      "---  ------        --------------  -----         \n",
      " 0   Order Date    99956 non-null  datetime64[ns]\n",
      " 1   Brand         99956 non-null  object        \n",
      " 2   Sneaker Name  99956 non-null  object        \n",
      " 3   Sale Price    99956 non-null  int64         \n",
      " 4   Retail Price  99956 non-null  int64         \n",
      " 5   Release Date  99956 non-null  datetime64[ns]\n",
      " 6   Shoe Size     99956 non-null  float64       \n",
      " 7   Buyer Region  99956 non-null  object        \n",
      "dtypes: datetime64[ns](2), float64(1), int64(2), object(3)\n",
      "memory usage: 6.1+ MB\n"
     ]
    }
   ],
   "source": [
    "# More cleaning\n",
    "df['Release Date'] = pd.to_datetime(df['Release Date'], format='%m/%d/%y')\n",
    "df.info()"
   ]
  },
  {
   "cell_type": "code",
   "execution_count": null,
   "metadata": {},
   "outputs": [],
   "source": [
    "# Next steps\n",
    "# Now that my data is clean lets do some exploratory analysis \n",
    "\n"
   ]
  }
 ],
 "metadata": {
  "kernelspec": {
   "display_name": "sneaker_analysis_env",
   "language": "python",
   "name": "python3"
  },
  "language_info": {
   "codemirror_mode": {
    "name": "ipython",
    "version": 3
   },
   "file_extension": ".py",
   "mimetype": "text/x-python",
   "name": "python",
   "nbconvert_exporter": "python",
   "pygments_lexer": "ipython3",
   "version": "3.11.5"
  },
  "orig_nbformat": 4
 },
 "nbformat": 4,
 "nbformat_minor": 2
}
